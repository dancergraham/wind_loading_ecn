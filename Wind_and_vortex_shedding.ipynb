{
  "nbformat": 4,
  "nbformat_minor": 0,
  "metadata": {
    "colab": {
      "name": "Wind and vortex shedding.ipynb",
      "provenance": [],
      "authorship_tag": "ABX9TyOXPMOG0QV5YvBqUA8+NH+n",
      "include_colab_link": true
    },
    "kernelspec": {
      "name": "python3",
      "display_name": "Python 3"
    }
  },
  "cells": [
    {
      "cell_type": "markdown",
      "metadata": {
        "id": "view-in-github",
        "colab_type": "text"
      },
      "source": [
        "<a href=\"https://colab.research.google.com/github/dancergraham/wind_loading_ecn/blob/main/Wind_and_vortex_shedding.ipynb\" target=\"_parent\"><img src=\"https://colab.research.google.com/assets/colab-badge.svg\" alt=\"Open In Colab\"/></a>"
      ]
    },
    {
      "cell_type": "markdown",
      "metadata": {
        "id": "juTX8zOrb1kO"
      },
      "source": [
        "# Wind and vortex shedding\r\n",
        "\r\n",
        "Graham Knapp 18/03/2021"
      ]
    },
    {
      "cell_type": "code",
      "metadata": {
        "id": "JTO3kwIbbnNO"
      },
      "source": [
        "def strouhal_number(wind_speed, length, frequency):\r\n",
        "  return (frequency * length) / wind_speed\r\n"
      ],
      "execution_count": null,
      "outputs": []
    },
    {
      "cell_type": "markdown",
      "metadata": {
        "id": "B3MfEWuEbzy3"
      },
      "source": [
        "### Iced cable\r\n",
        "\r\n",
        "wind speed = 0.9 m/s\r\n",
        "\r\n",
        "diameter = 0.2 m\r\n",
        "\r\n",
        "frequency = 1.2 Hz"
      ]
    },
    {
      "cell_type": "code",
      "metadata": {
        "colab": {
          "base_uri": "https://localhost:8080/"
        },
        "id": "PTQecjGodR02",
        "outputId": "cf750968-3b6c-4930-d6ea-5d25ade05360"
      },
      "source": [
        "st = strouhal_number(0.9, 0.2, 1.2)\r\n",
        "print(f\"Strouhal Number = {st:.2f}\")"
      ],
      "execution_count": null,
      "outputs": [
        {
          "output_type": "stream",
          "text": [
            "Strouhal Number = 0.15\n"
          ],
          "name": "stdout"
        }
      ]
    },
    {
      "cell_type": "markdown",
      "metadata": {
        "id": "q6epd-5r25gu"
      },
      "source": [
        "### Calculate reference velocity"
      ]
    },
    {
      "cell_type": "code",
      "metadata": {
        "colab": {
          "base_uri": "https://localhost:8080/"
        },
        "id": "YZmmMYL4dWJo",
        "outputId": "92e2772e-4014-4168-ca9b-9efebdeff977"
      },
      "source": [
        "from numpy import log, sqrt\r\n",
        "height_measurement = 10\r\n",
        "z0_measurement =  0.005\r\n",
        "z0_II = 0.05 # Standard meteorological conditions\r\n",
        "u_measurement = 25\r\n",
        "\r\n",
        "kr_measurement = 0.19 * (z0_measurement / z0_II)**0.07\r\n",
        "u_ref = u_measurement / (kr_measurement * log(height_measurement / z0_measurement) )\r\n",
        "print(f\"kr : {kr_measurement:.2f}, Reference Wind Speed : {u_ref:.2f} m/s\")"
      ],
      "execution_count": null,
      "outputs": [
        {
          "output_type": "stream",
          "text": [
            "kr : 0.16, Reference Wind Speed : 20.34 m/s\n"
          ],
          "name": "stdout"
        }
      ]
    },
    {
      "cell_type": "markdown",
      "metadata": {
        "id": "ZKKEsjZ56dzb"
      },
      "source": [
        "### Calculate site velocity"
      ]
    },
    {
      "cell_type": "code",
      "metadata": {
        "colab": {
          "base_uri": "https://localhost:8080/"
        },
        "id": "nB343TPf33yI",
        "outputId": "c5cc9fee-f957-427f-8c72-097c641ce666"
      },
      "source": [
        "heights = [10, 41]\r\n",
        "for height in heights:\r\n",
        "  z0_site = 1.\r\n",
        "  kr_site = 0.19 * (z0_site / z0_II)**0.07\r\n",
        "  u_site = kr_site * u_ref * log(height/z0_site)\r\n",
        "  i_site = 1 / log(height /z0_site)\r\n",
        "  umax_site = u_site * sqrt(1+7*i_site)\r\n",
        "  print(f\"Height = {height}m, Mean speed = {u_site:.2f}m/s, TI = {i_site:.2f}, Max speed = {umax_site:.2f}m/s\")"
      ],
      "execution_count": null,
      "outputs": [
        {
          "output_type": "stream",
          "text": [
            "Height = 10m, Mean speed = 10.97m/s, TI = 0.43, Max speed = 22.06m/s\n",
            "Height = 41m, Mean speed = 17.70m/s, TI = 0.27, Max speed = 30.06m/s\n"
          ],
          "name": "stdout"
        }
      ]
    },
    {
      "cell_type": "markdown",
      "metadata": {
        "id": "h8P44Hfh9ucq"
      },
      "source": [
        "### Calculate forces\r\n",
        "\r\n",
        "At 41 m height on 448m by 7.3m deck"
      ]
    },
    {
      "cell_type": "code",
      "metadata": {
        "colab": {
          "base_uri": "https://localhost:8080/"
        },
        "id": "-PtQGu0x6EkC",
        "outputId": "9236600b-f2c1-49a3-ebff-e833c00e4fd3"
      },
      "source": [
        "C_d = 1.5\r\n",
        "rho = 1.225\r\n",
        "q_mean = 0.5 * rho * u_site **2\r\n",
        "q_dyn = 0.5 * rho * umax_site **2\r\n",
        "loaded_area = 448 * 7.3\r\n",
        "mean_drag_force = loaded_area * q_mean * C_d\r\n",
        "peak_drag_force = loaded_area * q_dyn * C_d\r\n",
        "print(f\"Mean drag force = {mean_drag_force:.0f} N\")\r\n",
        "print(f\"Peak drag force = {peak_drag_force:.0f} N\")"
      ],
      "execution_count": null,
      "outputs": [
        {
          "output_type": "stream",
          "text": [
            "Mean drag force = 941187 N\n",
            "Peak drag force = 2715303 N\n"
          ],
          "name": "stdout"
        }
      ]
    },
    {
      "cell_type": "markdown",
      "metadata": {
        "id": "3p3srZzL_mRM"
      },
      "source": [
        "### Scale model"
      ]
    },
    {
      "cell_type": "code",
      "metadata": {
        "colab": {
          "base_uri": "https://localhost:8080/"
        },
        "id": "9MTBmIXD-n_l",
        "outputId": "2d7697d9-32b2-4e38-9405-3418e0ea51eb"
      },
      "source": [
        "l_star = 1/100\r\n",
        "u_star = 0.5  # 12.5 m/s wind tunnel speed\r\n",
        "rho_star = 1\r\n",
        "p_star = u_star **2 * rho_star\r\n",
        "f_star = p_star * l_star **2\r\n",
        "\r\n",
        "model_mean_drag = mean_drag_force * f_star\r\n",
        "model_peak_drag = peak_drag_force * f_star\r\n",
        "print(f\"Mean force {model_mean_drag:.2f} N, Peak force {model_peak_drag:.2f} N\")"
      ],
      "execution_count": null,
      "outputs": [
        {
          "output_type": "stream",
          "text": [
            "Mean force 23.53 N, Peak force 67.88 N\n"
          ],
          "name": "stdout"
        }
      ]
    },
    {
      "cell_type": "code",
      "metadata": {
        "id": "QnNW3Z4kAWW7"
      },
      "source": [
        ""
      ],
      "execution_count": null,
      "outputs": []
    }
  ]
}